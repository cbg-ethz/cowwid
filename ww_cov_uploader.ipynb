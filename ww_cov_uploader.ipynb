{
 "cells": [
  {
   "cell_type": "code",
   "execution_count": null,
   "id": "bf4dd207",
   "metadata": {},
   "outputs": [],
   "source": [
    "import yaml\n",
    "import datetime\n",
    "from tqdm.notebook import tqdm, trange\n",
    "import time\n",
    "import json\n",
    "import psycopg2\n",
    "import netrc\n",
    "import re\n",
    "import os\n"
   ]
  },
  {
   "cell_type": "markdown",
   "id": "22fd8e7f",
   "metadata": {},
   "source": [
    "# Globals"
   ]
  },
  {
   "cell_type": "code",
   "execution_count": null,
   "id": "321278aa",
   "metadata": {},
   "outputs": [],
   "source": [
    "datadir = '.'\n",
    "jsonfile =  os.path.join(datadir, 'ww_update_data_combined.json')"
   ]
  },
  {
   "cell_type": "markdown",
   "id": "d92fbd79",
   "metadata": {},
   "source": [
    "# Load Data"
   ]
  },
  {
   "cell_type": "code",
   "execution_count": null,
   "id": "969605d6",
   "metadata": {},
   "outputs": [],
   "source": [
    "print(\"reusing %s last modified: %s\" % (jsonfile, time.ctime(os.path.getmtime(jsonfile))))\n",
    "with open(jsonfile, 'r') as file:\n",
    "     update_data = json.load(file)"
   ]
  },
  {
   "cell_type": "markdown",
   "id": "329d78db",
   "metadata": {},
   "source": [
    "## List content"
   ]
  },
  {
   "cell_type": "code",
   "execution_count": null,
   "id": "b3acfa57",
   "metadata": {},
   "outputs": [],
   "source": [
    "variants = [ k for k in update_data.keys() ]\n",
    "variants"
   ]
  },
  {
   "cell_type": "code",
   "execution_count": null,
   "id": "3661caf3",
   "metadata": {},
   "outputs": [],
   "source": [
    "cities_list = list({c for v in update_data.values() for c in v.keys() })\n",
    "cities_list"
   ]
  },
  {
   "cell_type": "markdown",
   "id": "28507250",
   "metadata": {},
   "source": [
    "## Check data"
   ]
  },
  {
   "cell_type": "code",
   "execution_count": null,
   "id": "7d243a0c",
   "metadata": {},
   "outputs": [],
   "source": [
    "# check the uploaded curve data for one example\n",
    "# NOTE this is clipped using only_start_from\n",
    "#update_data['B.1.1.7']['Zürich (ZH)'][\"timeseriesSummary\"]\n",
    "update_data['B.1.617.2']['Altenrhein (SG)']['timeseriesSummary']"
   ]
  },
  {
   "cell_type": "code",
   "execution_count": null,
   "id": "335a4e87",
   "metadata": {},
   "outputs": [],
   "source": [
    "# check the (copy-pasted) heatmap data for one example\n",
    "# NOTE this is clipped using only_start_from\n",
    "#update_data['B.1.1.7']['Zürich (ZH)'][\"mutationOccurrences\"]\n",
    "update_data['B.1.617.2']['Altenrhein (SG)']['mutationOccurrences']"
   ]
  },
  {
   "cell_type": "markdown",
   "id": "76ca4e54",
   "metadata": {},
   "source": [
    "## Upload to Cov-Spectrum"
   ]
  },
  {
   "cell_type": "code",
   "execution_count": null,
   "id": "0d5e5b27",
   "metadata": {},
   "outputs": [],
   "source": [
    "dbhost='id-hdb-psgr-cp61.ethz.ch'"
   ]
  },
  {
   "cell_type": "code",
   "execution_count": null,
   "id": "d995fb84",
   "metadata": {},
   "outputs": [],
   "source": [
    "# load from netrc\n",
    "dbuser,dbpass=netrc.netrc().authenticators(dbhost)[0::2]\n",
    "\n",
    "# alternative: input box\n",
    "#dbuser = input(f\"Enter username for database {dbhost}:\\n\")\n",
    "#dbpass = input(f\"Enter password for user {dbuser}:\\n\")\n",
    "\n",
    "# alternative: enviro\n",
    "#dbuser = os.environ['DB_USERNAME'],\n",
    "#dbpass = os.environ['DB_PASSWORD'],\n",
    "\n",
    "dbuser"
   ]
  },
  {
   "cell_type": "code",
   "execution_count": null,
   "id": "525890d7",
   "metadata": {},
   "outputs": [],
   "source": [
    "dbconn = psycopg2.connect(\n",
    "    host=dbhost,\n",
    "    database='sars_cov_2',\n",
    "    user=dbuser,\n",
    "    password=dbpass,\n",
    "    port='5432'\n",
    ")\n",
    "dbconn"
   ]
  },
  {
   "cell_type": "code",
   "execution_count": null,
   "id": "eceb60b3",
   "metadata": {},
   "outputs": [],
   "source": [
    "cur = dbconn.cursor()\n",
    "cur"
   ]
  },
  {
   "cell_type": "code",
   "execution_count": null,
   "id": "e93d6a2f",
   "metadata": {},
   "outputs": [],
   "source": [
    "for pango in variants:\n",
    "    for city in cities_list:\n",
    "        cur.execute(\"\"\"\n",
    "        DO $$\n",
    "        BEGIN\n",
    "         IF EXISTS (SELECT ww.data FROM public.spectrum_waste_water_result AS ww WHERE ww.variant_name=%(var)s AND ww.location=%(city)s) THEN\n",
    "          UPDATE public.spectrum_waste_water_result AS ww SET data=%(data)s WHERE ww.variant_name=%(var)s AND ww.location=%(city)s;\n",
    "         ELSE\n",
    "          INSERT INTO public.spectrum_waste_water_result (variant_name, location, data)\n",
    "          VALUES(%(var)s, %(city)s, %(data)s);\n",
    "         END IF;\n",
    "        END\n",
    "        $$\n",
    "        \"\"\", {'data': json.dumps(update_data[pango][city]).replace('NaN','null'), 'var': pango, 'city': city})"
   ]
  },
  {
   "cell_type": "code",
   "execution_count": null,
   "id": "06793786",
   "metadata": {},
   "outputs": [],
   "source": [
    "## Abort DB update !\n",
    "dbconn.rollback()"
   ]
  },
  {
   "cell_type": "code",
   "execution_count": null,
   "id": "49529f2d",
   "metadata": {},
   "outputs": [],
   "source": [
    "## Save to DB !\n",
    "dbconn.commit()"
   ]
  },
  {
   "cell_type": "code",
   "execution_count": null,
   "id": "570131e5",
   "metadata": {},
   "outputs": [],
   "source": [
    "cur.close()\n",
    "dbconn.close()"
   ]
  },
  {
   "cell_type": "code",
   "execution_count": null,
   "id": "06e15cc9",
   "metadata": {},
   "outputs": [],
   "source": []
  }
 ],
 "metadata": {
  "kernelspec": {
   "display_name": "bio1",
   "language": "python",
   "name": "bio1"
  },
  "language_info": {
   "codemirror_mode": {
    "name": "ipython",
    "version": 3
   },
   "file_extension": ".py",
   "mimetype": "text/x-python",
   "name": "python",
   "nbconvert_exporter": "python",
   "pygments_lexer": "ipython3",
   "version": "3.9.6"
  }
 },
 "nbformat": 4,
 "nbformat_minor": 5
}
