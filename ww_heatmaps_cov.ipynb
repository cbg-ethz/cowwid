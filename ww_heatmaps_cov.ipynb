{
 "cells": [
  {
   "cell_type": "code",
   "execution_count": null,
   "id": "c48afcc2",
   "metadata": {},
   "outputs": [],
   "source": [
    "from IPython.core.display import display, HTML\n",
    "display(HTML(\"<style>.container { width:100% !important; }</style>\"))\n",
    "plotwidth=40"
   ]
  },
  {
   "cell_type": "code",
   "execution_count": null,
   "id": "e1c40bfe",
   "metadata": {},
   "outputs": [],
   "source": [
    "import numpy as np\n",
    "import pandas as pd\n",
    "import scipy as sp\n",
    "\n",
    "import seaborn as sns\n",
    "import matplotlib.pyplot as plt\n",
    "\n",
    "from natsort import natsort_keygen\n",
    "\n",
    "import statsmodels.api as sm\n",
    "import scipy as sp\n",
    "\n",
    "import os\n",
    "import json\n",
    "import datetime\n",
    "import psycopg2\n",
    "import netrc\n",
    "import re\n",
    "from tqdm.notebook import tqdm, trange\n",
    "from tqdm.notebook import tqdm_notebook\n",
    "tqdm_notebook.pandas()"
   ]
  },
  {
   "cell_type": "markdown",
   "id": "aedb2af9",
   "metadata": {},
   "source": [
    "# Globals"
   ]
  },
  {
   "cell_type": "code",
   "execution_count": null,
   "id": "7c964b15",
   "metadata": {},
   "outputs": [],
   "source": [
    "datadir = '.'\n",
    "plotdir = 'plots'\n",
    "vpipe_working = 'working' # V-pipe's working directory\n",
    "\n",
    "# Input\n",
    "tally_mut = os.path.join(datadir, 'tallymut_line.tsv')\n",
    "cooc_table = os.path.join(vpipe_working, 'ww-cooc.csv')\n",
    "\n",
    "# Select\n",
    "start_date = '2020-12-08'\n",
    "start_date_klzh = '2021-08-15'\n",
    "todaydate = datetime.date.today().strftime(\"%Y-%m-%d\")\n",
    "cities_list=['Altenrhein (SG)', 'Chur (GR)', 'Genève (GE)', 'Kanton Zürich', 'Laupen (BE)',\n",
    "       'Lausanne (VD)', 'Lugano (TI)', 'Zürich (ZH)']\n",
    "variants_list=['UK','ZA','BR','C36','IN1','IN2','IN3']\n",
    "variants_pangolin={'UK':'B.1.1.7','ZA':'B.1.351','BR':'P.1','C36':'C.36.3','IN1':'B.1.617.1','IN2':'B.1.617.2','IN3':'B.1.617.3'}\n",
    "exclusive_list=['ZA','BR'] # list of variants where we should apply filtering\n",
    "exclude_from=['UK','ZA','BR' ] #,'IN2'] #,'C36','IN1','IN2','IN3'] # filter against these variants\n",
    "# Output\n",
    "update_data_file = os.path.join(datadir, 'ww_update_data_heatmap.json')"
   ]
  },
  {
   "cell_type": "markdown",
   "id": "0cf5dc0b",
   "metadata": {},
   "source": [
    "# Load Data"
   ]
  },
  {
   "cell_type": "markdown",
   "id": "ffb5508b",
   "metadata": {},
   "source": [
    "## Load WWTP Sequencing Data"
   ]
  },
  {
   "cell_type": "code",
   "execution_count": null,
   "id": "afa7e5ab",
   "metadata": {},
   "outputs": [],
   "source": [
    "df = pd.read_csv(tally_mut, sep='\\t', parse_dates=['date'])\n",
    "\n",
    "df['mutation'] = df['pos'].astype(str) + df['base']\n",
    "df.head()"
   ]
  },
  {
   "cell_type": "code",
   "execution_count": null,
   "id": "8fc896c0",
   "metadata": {},
   "outputs": [],
   "source": [
    "df_cooc_raw = pd.read_csv(cooc_table, sep=',') #, index_col=['sample','batch'])\n",
    "\n",
    "#df['mutation'] = df['pos'].astype(str) + df['base']\n",
    "\n",
    "df_cooc_raw.head()"
   ]
  },
  {
   "cell_type": "code",
   "execution_count": null,
   "id": "6c3bfc31",
   "metadata": {},
   "outputs": [],
   "source": [
    "# Look for duplicated samples with suffixes\n",
    "df[(~df['plantname'].isna()) & (df['date'] >= start_date) & (df['base'] != '-') & df.duplicated(subset=['plantname','date','batch','mutation'], keep=False)]"
   ]
  },
  {
   "cell_type": "code",
   "execution_count": null,
   "id": "7fd8a509",
   "metadata": {},
   "outputs": [],
   "source": [
    "# HACK workaround for a duplicated sample\n",
    "df.loc[df['sample']=='A1_05_2021_05_19_CATTCGGA-TTTCCATC','batch']='20210604_JN8TR_CATTCGGA-TTTCCATC'\n",
    "df_cooc_raw.loc[df_cooc_raw['sample']=='A1_05_2021_05_19_CATTCGGA-TTTCCATC','batch']='20210604_JN8TR_CATTCGGA-TTTCCATC'"
   ]
  },
  {
   "cell_type": "code",
   "execution_count": null,
   "id": "3bc016be",
   "metadata": {},
   "outputs": [],
   "source": [
    "# plantcode and date from mut_table to cooc\n",
    "df_map=df[['sample','batch','plantname','date']].drop_duplicates(ignore_index=True).set_index(['sample','batch'])\n",
    "df_cooc=df_cooc_raw.merge(df_map[['plantname','date']], how='left', on=['sample','batch'], copy=False, validate='many_to_one').set_index(['plantname','date','batch'])\n",
    "df_cooc.head()"
   ]
  },
  {
   "cell_type": "code",
   "execution_count": null,
   "id": "f58ef410",
   "metadata": {},
   "outputs": [],
   "source": [
    "#TODO load actual amplicon information\n",
    "\n",
    "amplicons = {\n",
    "    'IN1': { 76: ['22917G', '23012C'], },\n",
    "    'IN3': { 76: ['22917G', '23012C'], },\n",
    "    'IN2': { 76: ['22917G', '22995A'],\n",
    "             91: ['27638C', '27752T'], },\n",
    "    'BR':  { 71: ['21621A', '21638T'],  # ,'21614T'], # common mutations are removed from the plot\n",
    "             # 95: ['28877T',  '28878C'], # not part of the signature mutations\n",
    "           },\n",
    "}"
   ]
  },
  {
   "cell_type": "code",
   "execution_count": null,
   "id": "8ffbd1eb",
   "metadata": {},
   "outputs": [],
   "source": [
    "def mutfilter(var, exclusive=False):\n",
    "    # if exclusive is set on true, it will filter only those mutation which are variant specific and DO NOT show up in other variants\n",
    "    # e.g.: used to exclude 23063T (V501Y) as all variant have it\n",
    "    return (df[exclude_from].fillna(0) == ['mut' if v==var else 0 for v in exclude_from]).all(axis=1) if exclusive else (df[var] == \"mut\")\n",
    "mutfilter('UK', exclusive=True)"
   ]
  },
  {
   "cell_type": "code",
   "execution_count": null,
   "id": "320b604a",
   "metadata": {},
   "outputs": [],
   "source": [
    "df_wide = {}\n",
    "amp_col = {}\n",
    "for var in tqdm(variants_list):\n",
    "    df_wide[var] = (\n",
    "        # for the remaining mutations\n",
    "        df[(~df['plantname'].isna()) & (df['date'] >= start_date) & (df['base'] != '-') & (mutfilter(var, exclusive=(var in exclusive_list)))]\n",
    "         .pivot(index=['plantname', 'date', 'batch'], columns=['mutation'], values='frac')\n",
    "         .sort_index(axis=1, key=natsort_keygen())\n",
    "    )\n",
    "    # add amplicons\n",
    "    if var in amplicons:\n",
    "        amp_col[var] = []\n",
    "        for amp,muts in amplicons[var].items():\n",
    "            aname =  f\"Amp {amp}\"\n",
    "            df_wide[var].insert(loc=1+df_wide[var].columns.get_loc(muts[-1]), column=aname, value=df_cooc.loc[(df_cooc['amplicon'] == amp) & (df_cooc[var]==1)].loc[df_wide[var].index,'frac'], allow_duplicates=False)\n",
    "            amp_col[var] += [ aname ]\n",
    "\n",
    "df_wide['IN2'].head()"
   ]
  },
  {
   "cell_type": "code",
   "execution_count": null,
   "id": "6a3e87c1",
   "metadata": {},
   "outputs": [],
   "source": [
    "df_wide['IN2'].loc['Zürich (ZH)']"
   ]
  },
  {
   "cell_type": "code",
   "execution_count": null,
   "id": "1c776658",
   "metadata": {},
   "outputs": [],
   "source": [
    "amp_col['IN2']"
   ]
  },
  {
   "cell_type": "code",
   "execution_count": null,
   "id": "b9df92e7",
   "metadata": {},
   "outputs": [],
   "source": [
    "df_wide_cov = (\n",
    "    df[(~df['plantname'].isna()) & (df['date'] >= '2020-12-08') & (df['base'] != '-') & (df['UK'] == \"mut\")]\n",
    "    .pivot(index=['plantname', 'date', 'batch'], columns=['mutation'], values='cov')\n",
    "    .sort_index(axis=1, key=natsort_keygen())\n",
    ")\n",
    "\n",
    "df_wide_counts = (\n",
    "    df[(~df['plantname'].isna()) & (df['date'] >= '2020-12-08') & (df['base'] != '-') & (df['UK'] == \"mut\")]\n",
    "    .pivot(index=['plantname', 'date', 'batch'], columns=['mutation'], values='var')\n",
    "    .sort_index(axis=1, key=natsort_keygen())\n",
    ")"
   ]
  },
  {
   "cell_type": "markdown",
   "id": "20c80008",
   "metadata": {},
   "source": [
    "# Heatmaps"
   ]
  },
  {
   "cell_type": "code",
   "execution_count": null,
   "id": "93671a42",
   "metadata": {},
   "outputs": [],
   "source": [
    "for city in tqdm(cities_list, desc='Cities', position=0):\n",
    "    for var in tqdm(variants_list, desc='Variants', position=1):\n",
    "        tmp=df_wide[var].loc[city]\n",
    "\n",
    "        # drawing box decorations:\n",
    "        #      22917G┐\n",
    "        #      22995A┤\n",
    "        # Amplicon 76┘\n",
    "        if var in amplicons:\n",
    "            rmap={}\n",
    "            # mutations\n",
    "            for amp,muts in amplicons[var].items():\n",
    "                box = ' ┐'\n",
    "                for m in muts:\n",
    "                    rmap[m]=f\"{m}{box}\"\n",
    "                    box = '┤'\n",
    "            # amplicons\n",
    "            for a in amp_col[var]:\n",
    "                    rmap[a]=f\"{a}┘\"\n",
    "            tmp.rename(columns=rmap,inplace=True)\n",
    "\n",
    "        plt.figure(figsize=(plotwidth,5)) # 17\n",
    "        sns.heatmap(\n",
    "            data=tmp.T.applymap(lambda x: np.nan if pd.isna(x) else x),\n",
    "            annot=tmp.T,\n",
    "            fmt='.1g',\n",
    "            square=False, cbar=False,\n",
    "            cmap=sns.color_palette(\"viridis\", as_cmap=True)\n",
    "        ).set_title(f\"{city} - {variants_pangolin[var]}\")\n",
    "        plt.show()"
   ]
  },
  {
   "cell_type": "markdown",
   "id": "a57936cd",
   "metadata": {},
   "source": [
    "# Prepare Heatmap Data for covSPECTRUM"
   ]
  },
  {
   "cell_type": "code",
   "execution_count": null,
   "id": "697405e4",
   "metadata": {},
   "outputs": [],
   "source": [
    "import warnings\n",
    "\n",
    "with warnings.catch_warnings(record=True) as w:\n",
    "    r_df={}\n",
    "    for city in tqdm(cities_list, desc='Cities', position=0):\n",
    "        r_df[city]={}\n",
    "        for var in tqdm(variants_list, desc='Variants', position=1, leave=False):\n",
    "            r_df[city][var] = df_wide[var].loc[city].dropna(axis=1, how='all').T  # .loc[28111:28111]\n",
    "\n",
    "m_df={}\n",
    "# import matplotlib.gridspec as gridspec\n",
    "for city in tqdm(cities_list, desc='Cities', position=0):\n",
    "    m_df[city]={}\n",
    "    for var in tqdm(variants_list, desc='Variants', position=1, leave=False):\n",
    "        m_df[city][var] = r_df[city][var].T.groupby(\"date\").agg(\"mean\").asfreq('D').T"
   ]
  },
  {
   "cell_type": "markdown",
   "id": "e8905839",
   "metadata": {},
   "source": [
    "# Make data for covSPECTRUM"
   ]
  },
  {
   "cell_type": "code",
   "execution_count": null,
   "id": "ded6e0b0",
   "metadata": {},
   "outputs": [],
   "source": [
    "update_data={ }\n",
    "tdf={city:{}  for city in cities_list}\n",
    "tdf_mat={city:{}  for city in cities_list}\n",
    "\n",
    "for var in tqdm(variants_list, desc='Variants', position=0):\n",
    "    update_data[variants_pangolin[var]] = { }\n",
    "    for city in tqdm(cities_list, desc='Cities', position=1, leave=False):\n",
    "\n",
    "#         tdf[city][var][\"date\"] = tdf[city][var][\"date\"].astype(\"str\")\n",
    "\n",
    "        tdf_mat[city][var] = m_df[city][var].T.melt(ignore_index=False, var_name=\"nucMutation\", value_name=\"proportion\").reset_index()\n",
    "        tdf_mat[city][var][\"date\"] = tdf_mat[city][var][\"date\"].astype(\"str\")\n",
    "        # drawing box decorations:\n",
    "        # ┌22917G\n",
    "        # ├22995A\n",
    "        # └Amplicon 76\n",
    "        if var in amplicons:\n",
    "            # mutations\n",
    "            for amp,muts in amplicons[var].items():\n",
    "                box = '┌'\n",
    "                for m in muts:\n",
    "                    tdf_mat[city][var].loc[tdf_mat[city][var][\"nucMutation\"]==m,\"nucMutation\"]=f\"{box}{m}\"\n",
    "                    box = '├'\n",
    "            for a in amp_col[var]:\n",
    "                    tdf_mat[city][var].loc[tdf_mat[city][var][\"nucMutation\"]==a,\"nucMutation\"]=f\"└{a}\"\n",
    "\n",
    "        update_data[variants_pangolin[var]][city] = {\n",
    "            #\"updateDate\": todaydate,\n",
    "#             \"timeseriesSummary\": [dict(tdf[city][var].iloc[i,]) for i in range(tdf[city][var].shape[0])],\n",
    "            \"mutationOccurrences\": [dict(tdf_mat[city][var].iloc[i,]) for i in range(tdf_mat[city][var].shape[0])]\n",
    "        }\n",
    "\n",
    "import json\n",
    "with open(update_data_file, 'w') as file:\n",
    "     file.write(json.dumps(update_data))"
   ]
  },
  {
   "cell_type": "code",
   "execution_count": null,
   "id": "93cc8b98",
   "metadata": {},
   "outputs": [],
   "source": [
    "update_data['B.1.1.7']['Altenrhein (SG)']['mutationOccurrences']\n"
   ]
  },
  {
   "cell_type": "code",
   "execution_count": null,
   "id": "896c8259",
   "metadata": {},
   "outputs": [],
   "source": []
  }
 ],
 "metadata": {
  "kernelspec": {
   "display_name": "bio1",
   "language": "python",
   "name": "bio1"
  },
  "language_info": {
   "codemirror_mode": {
    "name": "ipython",
    "version": 3
   },
   "file_extension": ".py",
   "mimetype": "text/x-python",
   "name": "python",
   "nbconvert_exporter": "python",
   "pygments_lexer": "ipython3",
   "version": "3.9.6"
  }
 },
 "nbformat": 4,
 "nbformat_minor": 5
}
