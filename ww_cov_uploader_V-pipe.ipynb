{
 "cells": [
  {
   "cell_type": "code",
   "execution_count": null,
   "id": "5c11661c",
   "metadata": {},
   "outputs": [],
   "source": [
    "from IPython.display import display, HTML\n",
    "\n",
    "display(HTML(\"<style>.container { width:100% !important; }</style>\"))\n",
    "plotwidth = 40"
   ]
  },
  {
   "cell_type": "code",
   "execution_count": null,
   "id": "2eb7da98",
   "metadata": {},
   "outputs": [],
   "source": [
    "import matplotlib.pyplot as plt\n",
    "import numpy as np\n",
    "import seaborn as sns\n",
    "import pandas as pd\n",
    "import yaml\n",
    "import json\n",
    "from tqdm.notebook import tqdm, trange\n",
    "import time\n",
    "import datetime\n",
    "import os\n",
    "import sys\n",
    "import netrc\n",
    "import psycopg2\n",
    "\n",
    "# from xml.dom import minidom"
   ]
  },
  {
   "cell_type": "markdown",
   "id": "5bf5e25c",
   "metadata": {},
   "source": [
    "# Globals"
   ]
  },
  {
   "cell_type": "code",
   "execution_count": null,
   "id": "63998407",
   "metadata": {},
   "outputs": [],
   "source": [
    "# Source of inspiration from covariatns, see:\n",
    "# https://github.com/hodcroftlab/covariants/blob/master/web/data/clusters.json\n",
    "#\n",
    "# Keep in sync with covspectrum, see:\n",
    "# https://github.com/GenSpectrum/cov-spectrum-website/blob/develop/src/models/wasteWater/constants.ts\n",
    "color_map = {\n",
    "    \"B.1.1.7\": \"#D16666\",\n",
    "    \"B.1.351\": \"#FF6665\",\n",
    "    \"P.1\": \"#FFB3B3\",\n",
    "    \"B.1.617.1\": \"#66C265\",\n",
    "    \"B.1.617.2\": \"#66A366\",\n",
    "    \"BA.1\": \"#A366A3\",\n",
    "    \"BA.2\": \"#cfafcf\",\n",
    "    \"BA.4\": \"#8a66ff\",\n",
    "    \"BA.5\": \"#585eff\",\n",
    "    \"BA.2.12.1\": \"#0400e0\",\n",
    "    \"BA.2.75\": \"#008fe0\",\n",
    "    \"BA.2.75.2\": \"#208fe0\",  # improv\n",
    "    \"BQ.1.1\": \"#8fe000\",  # improv\n",
    "    \"XBB.1.9\": \"#dd6bff\",  # improv\n",
    "    \"XBB.1.5\": \"#ff5656\",\n",
    "    \"XBB.1.16\": \"#e99b30\",\n",
    "    \"XBB.2.3\": \"#b4b82a\",  # improv\n",
    "    \"EG.5\": \"#359f99\",  # improv\n",
    "    \"BA.2.86\": \"#FF20E0\",  # pink elephant variant\n",
    "    \"undetermined\": \"#969696\",\n",
    "}"
   ]
  },
  {
   "cell_type": "code",
   "execution_count": null,
   "id": "957872e6",
   "metadata": {},
   "outputs": [],
   "source": [
    "### Input\n",
    "# directory where V-pipe was run\n",
    "datadir = \"./work-vp-test/variants/\"\n",
    "\n",
    "\n",
    "#### Output\n",
    "plots_dir = \"./plots\"  # for graphics files\n",
    "outdir = \".\"  # for data output"
   ]
  },
  {
   "cell_type": "code",
   "execution_count": null,
   "id": "6830dad0",
   "metadata": {},
   "outputs": [],
   "source": [
    "# Load data to be uploaded\n",
    "jsonfile_smooth = os.path.join(datadir, \"deconvoluted_upload.json\")\n",
    "# 'all_bootstrap_upload.json') # 'basel_upload.json') #\"lausanneupdate.json\") # all_upload.json\")\n",
    "\n",
    "# backup the combined data\n",
    "update_data_combined_file = os.path.join(outdir, \"ww_update_data_combined.json\")\n",
    "reformatted = \"/tmp/ww_update_data_smooth_kernel_rob.json\""
   ]
  },
  {
   "cell_type": "markdown",
   "id": "efdc8bef",
   "metadata": {},
   "source": [
    "# Data"
   ]
  },
  {
   "cell_type": "code",
   "execution_count": null,
   "id": "d848d0e1",
   "metadata": {},
   "outputs": [],
   "source": [
    "# Smoothed curves\n",
    "print(\n",
    "    f\"reusing {jsonfile_smooth} last modified: {time.ctime(os.path.getmtime(jsonfile_smooth))}\"\n",
    ")\n",
    "\n",
    "with open(jsonfile_smooth, \"r\") as file:\n",
    "    update_data_smooth = json.load(file)"
   ]
  },
  {
   "cell_type": "code",
   "execution_count": null,
   "id": "8507c4d2",
   "metadata": {},
   "outputs": [],
   "source": [
    "# Locations list in smooth\n",
    "locations_file = list({c for c in update_data_smooth.keys()})\n",
    "\", \".join(locations_file)"
   ]
  },
  {
   "cell_type": "code",
   "execution_count": null,
   "id": "213f1e79",
   "metadata": {},
   "outputs": [],
   "source": [
    "# Date max (useful for the e-mail)\n",
    "for l in locations_file:\n",
    "    print(\n",
    "        l,\n",
    "        max(\n",
    "            [\n",
    "                d[\"date\"]\n",
    "                for v in update_data_smooth[l].values()\n",
    "                for d in v[\"timeseriesSummary\"]\n",
    "            ]\n",
    "        ),\n",
    "        sep=\"\\t\",\n",
    "    )"
   ]
  },
  {
   "cell_type": "code",
   "execution_count": null,
   "id": "d00508c2",
   "metadata": {},
   "outputs": [],
   "source": [
    "# date sentence in e-mail\n",
    "lastdates = {\n",
    "    l: max(\n",
    "        [\n",
    "            d[\"date\"]\n",
    "            for v in update_data_smooth[l].values()\n",
    "            for d in v[\"timeseriesSummary\"]\n",
    "        ]\n",
    "    )\n",
    "    for l in locations_file\n",
    "}\n",
    "bydates = {d: [] for d in sorted(list(set(lastdates.values())))}\n",
    "for l, d in lastdates.items():\n",
    "    bydates[d] += [l]\n",
    "for d, ls in bydates.items():\n",
    "    print(\n",
    "        f\"{datetime.datetime.strptime(d, '%Y-%m-%d').date().strftime('%B %d')} for {', '.join(sorted(ls))}.\"\n",
    "    )"
   ]
  },
  {
   "cell_type": "code",
   "execution_count": null,
   "id": "967f3983",
   "metadata": {},
   "outputs": [],
   "source": [
    "# this next line clips the plots from a given date\n",
    "# used for cities which don't want report before a given date\n",
    "# or for variants that we only report after a given date\n",
    "only_start_from = {\n",
    "    \"Kanton Zürich\": \"2021-08-15\",  # start_date\n",
    "    \"Lausanne (VD)\": \"2023-01-01\",\n",
    "    # 'B.1.1.529':'2021-10-05',\n",
    "}\n",
    "print(only_start_from)\n",
    "\n",
    "update_data = {}\n",
    "# HACK presume that the smoothing data is the exact set that we want to upload\n",
    "locations_upload = locations_file\n",
    "variants_upload = sorted(\n",
    "    list({v for c in update_data_smooth.values() for v in c.keys()})\n",
    ")\n",
    "for loc in tqdm(locations_upload, desc=\"Locations\", position=0):\n",
    "    update_data[loc] = {}\n",
    "    for var in tqdm(variants_upload, desc=loc, position=1, leave=False):\n",
    "        # NOTE we always junk the heatmap, it's not up to date anyway\n",
    "        update_data[loc][var] = {\n",
    "            # \"updateDate\": todaydate,\n",
    "            \"timeseriesSummary\": [\n",
    "                x\n",
    "                for x in update_data_smooth[loc][var][\"timeseriesSummary\"]\n",
    "                if ((loc not in only_start_from) or (x[\"date\"] >= only_start_from[loc]))\n",
    "                and (\n",
    "                    (var not in only_start_from) or (x[\"date\"] >= only_start_from[var])\n",
    "                )\n",
    "            ],\n",
    "            \"mutationOccurrences\": (np.nan),\n",
    "        }"
   ]
  },
  {
   "cell_type": "markdown",
   "id": "e5d0c0f2",
   "metadata": {},
   "source": [
    "# Inspect"
   ]
  },
  {
   "cell_type": "code",
   "execution_count": null,
   "id": "144737f8",
   "metadata": {},
   "outputs": [],
   "source": [
    "# Locations list in smooth\n",
    "locations = sorted(list({c for c in update_data.keys()}))\n",
    "\", \".join(locations)"
   ]
  },
  {
   "cell_type": "code",
   "execution_count": null,
   "id": "1de67c21",
   "metadata": {},
   "outputs": [],
   "source": [
    "# Variants in smooth\n",
    "\n",
    "variants = sorted(list({v for c in update_data.values() for v in c.keys()}))\n",
    "\", \".join(variants)"
   ]
  },
  {
   "cell_type": "code",
   "execution_count": null,
   "id": "6fe9a3f1",
   "metadata": {},
   "outputs": [],
   "source": [
    "# Does each one of them has a color?\n",
    "missing_color = list(set(variants) - set(color_map.keys()))\n",
    "print(\", \".join(missing_color))\n",
    "assert 0 == len(missing_color), \"ERROR: some variant without color !\""
   ]
  },
  {
   "cell_type": "code",
   "execution_count": null,
   "id": "bb741357",
   "metadata": {},
   "outputs": [],
   "source": [
    "# Load in a dataframe\n",
    "df = pd.DataFrame.from_records(\n",
    "    data=[\n",
    "        {\n",
    "            \"location\": loc,\n",
    "            \"date\": pd.to_datetime(d[\"date\"]),\n",
    "            \"variant\": var,\n",
    "            \"proportion\": d[\"proportion\"],\n",
    "            \"upper\": d[\"proportionUpper\"],\n",
    "            \"lower\": d[\"proportionLower\"],\n",
    "        }\n",
    "        for loc in tqdm(locations_upload, desc=\"Locations\", position=0)\n",
    "        for var in tqdm(variants_upload, desc=loc, position=1, leave=False)\n",
    "        for d in update_data_smooth[loc][var][\"timeseriesSummary\"]\n",
    "    ]\n",
    ")\n",
    "df"
   ]
  },
  {
   "cell_type": "code",
   "execution_count": null,
   "id": "5c63b27c",
   "metadata": {},
   "outputs": [],
   "source": [
    "df.dtypes"
   ]
  },
  {
   "cell_type": "markdown",
   "id": "d825e7e7",
   "metadata": {},
   "source": [
    "# Plot"
   ]
  },
  {
   "cell_type": "code",
   "execution_count": null,
   "id": "965fb6dc",
   "metadata": {},
   "outputs": [],
   "source": [
    "fig, axes = plt.subplots(\n",
    "    nrows=5, ncols=3, figsize=(plotwidth, plotwidth / 2), sharex=True\n",
    ")\n",
    "axes = axes.flatten()\n",
    "\n",
    "for i, loc in enumerate(tqdm(locations, desc=\"Locations\", position=0, leave=False)):\n",
    "    axes[i].set_title(loc)\n",
    "\n",
    "    for var in tqdm(variants, desc=loc, position=1, leave=False):\n",
    "        tt_df = (\n",
    "            df[(df[\"variant\"] == var) & (df[\"location\"] == loc)]\n",
    "            .sort_values(by=[\"date\"])\n",
    "            .fillna(0)\n",
    "        )\n",
    "        if tt_df.size == 0:\n",
    "            continue\n",
    "        g = sns.lineplot(\n",
    "            x=tt_df[\"date\"],\n",
    "            y=tt_df[\"proportion\"],\n",
    "            hue=tt_df[\"variant\"],\n",
    "            ax=axes[i],\n",
    "            palette=color_map,\n",
    "        )\n",
    "        g.get_legend().remove()\n",
    "        axes[i].fill_between(\n",
    "            x=tt_df[\"date\"],\n",
    "            y1=np.clip(tt_df[\"upper\"], 0.0, 1.0),\n",
    "            y2=np.clip(tt_df[\"lower\"], 0.0, 1.0),\n",
    "            alpha=0.2,\n",
    "            # color=\"grey\",\n",
    "            color=color_map[var],\n",
    "        )\n",
    "handles, labels = axes[i].get_legend_handles_labels()\n",
    "fig.legend(\n",
    "    handles, labels, loc=\"lower center\", ncol=len(labels), bbox_to_anchor=(0.5, 0.05)\n",
    ")\n",
    "fig.suptitle(f\"Deconvolution by V-pipe\")\n",
    "plt.savefig(os.path.join(plots_dir, f\"combined-vpipe.pdf\"))"
   ]
  },
  {
   "cell_type": "markdown",
   "id": "6d5187e9",
   "metadata": {},
   "source": [
    "# Upload"
   ]
  },
  {
   "cell_type": "code",
   "execution_count": null,
   "id": "65dcace0",
   "metadata": {},
   "outputs": [],
   "source": [
    "with open(update_data_combined_file, \"w\") as file:\n",
    "    file.write(\n",
    "        json.dumps(update_data).replace(\"NaN\", \"null\")\n",
    "    )  # syntactically standard compliant JSON vs. python numpy's output."
   ]
  },
  {
   "cell_type": "markdown",
   "id": "76ca4e54",
   "metadata": {},
   "source": [
    "## Upload to Cov-Spectrum"
   ]
  },
  {
   "cell_type": "code",
   "execution_count": null,
   "id": "7906180e",
   "metadata": {},
   "outputs": [],
   "source": [
    "dbhost = (\n",
    "    \"db-lapis.cuupxsogkmvx.eu-central-1.rds.amazonaws.com\"  #'id-hdb-psgr-cp61.ethz.ch'\n",
    ")"
   ]
  },
  {
   "cell_type": "code",
   "execution_count": null,
   "id": "73a1a51c",
   "metadata": {},
   "outputs": [],
   "source": [
    "# load from netrc\n",
    "dbuser, dbpass = netrc.netrc().authenticators(dbhost)[0::2]\n",
    "\n",
    "# alternative: input box\n",
    "# dbuser = input(f\"Enter username for database {dbhost}:\\n\")\n",
    "# dbpass = input(f\"Enter password for user {dbuser}:\\n\")\n",
    "\n",
    "# alternative: enviro\n",
    "# dbuser = os.environ['DB_USERNAME'],\n",
    "# dbpass = os.environ['DB_PASSWORD'],\n",
    "\n",
    "dbuser"
   ]
  },
  {
   "cell_type": "code",
   "execution_count": null,
   "id": "bb708846",
   "metadata": {},
   "outputs": [],
   "source": [
    "dbconn = psycopg2.connect(\n",
    "    host=dbhost,\n",
    "    database=\"covspectrum\",  #'sars_cov_2',\n",
    "    user=dbuser,\n",
    "    password=dbpass,\n",
    "    port=\"5432\",\n",
    ")\n",
    "dbconn"
   ]
  },
  {
   "cell_type": "code",
   "execution_count": null,
   "id": "eceb60b3",
   "metadata": {},
   "outputs": [],
   "source": [
    "cur = dbconn.cursor()\n",
    "cur"
   ]
  },
  {
   "cell_type": "code",
   "execution_count": null,
   "id": "bb0a369d",
   "metadata": {},
   "outputs": [],
   "source": [
    "for loc in tqdm(locations, desc=\"Locations\", position=0):\n",
    "    for pango in tqdm(variants, desc=loc, position=1, leave=True):\n",
    "        cur.execute(\n",
    "            \"\"\"\n",
    "            DO $$\n",
    "            BEGIN\n",
    "             IF EXISTS (SELECT ww.data FROM public.wastewater_result AS ww WHERE ww.variant_name=%(var)s AND ww.location=%(city)s) THEN\n",
    "              UPDATE public.wastewater_result AS ww SET data=%(data)s WHERE ww.variant_name=%(var)s AND ww.location=%(city)s;\n",
    "             ELSE\n",
    "              INSERT INTO public.wastewater_result (variant_name, location, data)\n",
    "              VALUES(%(var)s, %(city)s, %(data)s);\n",
    "             END IF;\n",
    "            END\n",
    "            $$\n",
    "            \"\"\",\n",
    "            {\n",
    "                \"data\": json.dumps(update_data[loc][pango]).replace(\"NaN\", \"null\"),\n",
    "                \"var\": pango,\n",
    "                \"city\": loc,\n",
    "            },\n",
    "        )"
   ]
  },
  {
   "cell_type": "markdown",
   "id": "9c7abcc8",
   "metadata": {},
   "source": [
    "### Multiple-choice time:"
   ]
  },
  {
   "cell_type": "code",
   "execution_count": null,
   "id": "06793786",
   "metadata": {},
   "outputs": [],
   "source": [
    "## Abort DB update !\n",
    "dbconn.rollback()"
   ]
  },
  {
   "cell_type": "code",
   "execution_count": null,
   "id": "49529f2d",
   "metadata": {},
   "outputs": [],
   "source": [
    "## Save to DB !\n",
    "dbconn.commit()"
   ]
  },
  {
   "cell_type": "code",
   "execution_count": null,
   "id": "570131e5",
   "metadata": {},
   "outputs": [],
   "source": [
    "cur.close()\n",
    "dbconn.close()"
   ]
  },
  {
   "cell_type": "markdown",
   "id": "e42f9774",
   "metadata": {},
   "source": [
    "## Upload to FOPH/BAG's Polybox"
   ]
  },
  {
   "cell_type": "code",
   "execution_count": null,
   "id": "77cb6908",
   "metadata": {},
   "outputs": [],
   "source": [
    "polybox_url = \"https://bs-pangolin@polybox.ethz.ch/remote.php/dav/files/bs-pangolin/Shared/BAG-COWWID19/\""
   ]
  },
  {
   "cell_type": "code",
   "execution_count": null,
   "id": "b4d1b9f5",
   "metadata": {},
   "outputs": [],
   "source": [
    "reformat = {\n",
    "    var: {\n",
    "        loc: {\"timeseriesSummary\": update_data[loc][var][\"timeseriesSummary\"]}\n",
    "        for loc in tqdm(locations, desc=pango, position=1, leave=False)\n",
    "    }\n",
    "    for pango in tqdm(variants, desc=\"Variants\", position=0)\n",
    "}\n",
    "\n",
    "### only in Notebook version 7.0\n",
    "# from IPython.display import JSON\n",
    "# display(JSON(reformat))\n",
    "\n",
    "reformat  # ww_update_data_smooth_kernel_rob.json"
   ]
  },
  {
   "cell_type": "code",
   "execution_count": null,
   "id": "0f90d473",
   "metadata": {},
   "outputs": [],
   "source": [
    "with open(reformatted, \"w\") as file:\n",
    "    file.write(\n",
    "        json.dumps(reformat).replace(\"NaN\", \"null\")\n",
    "    )  # syntactically standard compliant JSON vs. python numpy's output."
   ]
  },
  {
   "cell_type": "code",
   "execution_count": null,
   "id": "e48183dd",
   "metadata": {},
   "outputs": [],
   "source": [
    "%%bash -s \"$polybox_url\" \"$update_data_combined_file\" \"$reformatted\"\n",
    "ls -l \"$2\"\n",
    "curl --netrc --upload-file \"$2\" \"$1\" \n",
    "curl --netrc --upload-file \"$3\" \"$1\""
   ]
  },
  {
   "cell_type": "markdown",
   "id": "223b4a98",
   "metadata": {},
   "source": []
  }
 ],
 "metadata": {
  "kernelspec": {
   "display_name": "bio1",
   "language": "python",
   "name": "bio1"
  },
  "language_info": {
   "codemirror_mode": {
    "name": "ipython",
    "version": 3
   },
   "file_extension": ".py",
   "mimetype": "text/x-python",
   "name": "python",
   "nbconvert_exporter": "python",
   "pygments_lexer": "ipython3",
   "version": "3.9.16"
  }
 },
 "nbformat": 4,
 "nbformat_minor": 5
}
