{
 "cells": [
  {
   "cell_type": "code",
   "execution_count": null,
   "id": "e66db2b9",
   "metadata": {},
   "outputs": [],
   "source": [
    "from IPython.display import display, HTML\n",
    "display(HTML(\"<style>.container { width:100% !important; }</style>\"))\n",
    "plotwidth=40"
   ]
  },
  {
   "cell_type": "code",
   "execution_count": null,
   "id": "84cbfad0",
   "metadata": {},
   "outputs": [],
   "source": [
    "import matplotlib.pyplot as plt\n",
    "import numpy as np\n",
    "import seaborn as sns\n",
    "import pandas as pd\n",
    "import yaml\n",
    "from tqdm.notebook import tqdm, trange\n",
    "import time\n",
    "import os\n",
    "import sys\n",
    "\n",
    "from lollipop import *\n"
   ]
  },
  {
   "cell_type": "markdown",
   "id": "5bf5e25c",
   "metadata": {},
   "source": [
    "# Globals"
   ]
  },
  {
   "cell_type": "code",
   "execution_count": null,
   "id": "d1d4d3c5",
   "metadata": {},
   "outputs": [],
   "source": [
    "# Source of inspiration from covariatns, see:\n",
    "# https://github.com/hodcroftlab/covariants/blob/master/web/data/clusters.json\n",
    "#\n",
    "# Keep in sync with covspectrum, see:\n",
    "# https://github.com/cevo-public/cov-spectrum-website/blob/develop/src/models/wasteWater/constants.ts\n",
    "color_map = {\n",
    "  'B.1.1.7': '#D16666',\n",
    "  'B.1.351': '#FF6665',\n",
    "  'P.1': '#FFB3B3',\n",
    "  'B.1.617.1': '#66C265',\n",
    "  'B.1.617.2': '#66A366',\n",
    "  'BA.1': '#A366A3',\n",
    "  'BA.2': '#cfafcf',\n",
    "  'BA.4': '#8a66ff',\n",
    "  'BA.5': '#585eff',\n",
    "  'BA.2.12.1': '#0400e0',\n",
    "  'BA.2.75': '#008fe0',\n",
    "  'BA.2.75.2': '#208fe0', # improv\n",
    "  'BQ.1.1': '#8fe000', # improv\n",
    "  'undetermined': '#969696',\n",
    "}"
   ]
  },
  {
   "cell_type": "code",
   "execution_count": null,
   "id": "a4277738",
   "metadata": {},
   "outputs": [],
   "source": [
    "# Load data needed by Lollipop\n",
    "# temporary, globals\n",
    "\n",
    "# zst needs python's Zstandard \n",
    "tally_data = \"./work-vp-test/variants/tallymut.tsv.zst\" # \"./tallymut_line.tsv\"\n",
    "vpipe_deconv_data = \"./work-vp-test/variants/deconvoluted.tsv.zst\"\n",
    "vpipe_kdec_config = \"work-vp-test/deconv_linear_logit_quasi_strat.yaml\" # \"work-vp-test/deconv_linear_wald.yaml\"\n",
    "out_dir = (\n",
    "    \"./out\"\n",
    ")\n",
    "plots_dir = out_dir\n",
    "dump_csv = \"linear_deconv_logit_quasi_strat.csv.zst\"\n",
    "\n",
    "\n",
    "# var dates\n",
    "with open(\"work-vp-test/var_dates.yaml\", \"r\") as file:\n",
    "    var_dates = yaml.load(file, Loader=yaml.SafeLoader)\n",
    "\n",
    "\n",
    "# load variants configuations\n",
    "with open(\"work-vp-test/variant_config.yaml\", \"r\") as file:\n",
    "    conf_yaml = yaml.load(file, Loader=yaml.SafeLoader)\n",
    "variants_list = conf_yaml[\"variants_list\"]\n",
    "variants_pangolin = conf_yaml[\"variants_pangolin\"]\n",
    "variants_not_reported = conf_yaml[\"variants_not_reported\"]\n",
    "start_date = conf_yaml[\"start_date\"]\n",
    "end_date = conf_yaml.get(\"end_date\") # optionnal, usually absent in ongoing surveillance, and present in articles with subset of historical data\n",
    "\n",
    "to_drop = conf_yaml[\"to_drop\"]\n",
    "cities_list = conf_yaml[\"locations_list\"]\n",
    "\n",
    "# display the current config\n",
    "conf_yaml"
   ]
  },
  {
   "cell_type": "code",
   "execution_count": null,
   "id": "539a1603",
   "metadata": {},
   "outputs": [],
   "source": [
    "### Outputs\n",
    "plots_dir='deconv_plots'\n",
    "if not os.path.isdir(plots_dir):\n",
    "    try:\n",
    "        os.mkdir(plots_dir, mode=0o775)\n",
    "    except FileExistsError:\n",
    "        pass\n",
    "update_data_lolli_file = os.path.join('.', 'ww_update_data_lollipop.json')"
   ]
  },
  {
   "cell_type": "markdown",
   "id": "fb8868cd",
   "metadata": {},
   "source": [
    "# Load and preprocess data"
   ]
  },
  {
   "cell_type": "code",
   "execution_count": null,
   "id": "e5a978e5",
   "metadata": {},
   "outputs": [],
   "source": [
    "df_tally = pd.read_csv(tally_data, sep=\"\\t\", parse_dates = [ \"date\" ], dtype={\"location_code\": \"str\"})#.drop(columns=['proto'])\n",
    "# df_tally = df_tally[\n",
    "#     df_tally.\n",
    "\n",
    "preproc = DataPreprocesser(df_tally)\n",
    "preproc = preproc.general_preprocess(\n",
    "    variants_list=variants_list,\n",
    "    variants_pangolin=variants_pangolin,\n",
    "    variants_not_reported=variants_not_reported,\n",
    "    to_drop=to_drop,\n",
    "    start_date=start_date,\n",
    "    end_date=end_date,\n",
    "    remove_deletions=True,\n",
    ")\n",
    "preproc = preproc.filter_mutations()\n",
    "preproc.df_tally.head()"
   ]
  },
  {
   "cell_type": "code",
   "execution_count": null,
   "id": "06e81664-af2f-4bb7-8bd5-a2054ae7b18f",
   "metadata": {},
   "outputs": [],
   "source": [
    "preproc.df_tally[\"sample\"].unique().shape"
   ]
  },
  {
   "cell_type": "markdown",
   "id": "850167b3-6fd3-4baa-97c4-ab361fbd34ac",
   "metadata": {},
   "source": [
    "## Have a look at the design matrix / variants list"
   ]
  },
  {
   "cell_type": "code",
   "execution_count": null,
   "id": "cf2db8a5-6d66-4b6d-9917-39bce600437e",
   "metadata": {},
   "outputs": [],
   "source": [
    "des_matrix = preproc.df_tally[variants_list + [\"undetermined\", \"mutations\"]].drop_duplicates(\"mutations\").set_index(\"mutations\")\n",
    "des_matrix_mut = des_matrix[~des_matrix.index.str.startswith(\"-\")]\n",
    "des_matrix_wt = des_matrix[des_matrix.index.str.startswith(\"-\")]\n"
   ]
  },
  {
   "cell_type": "code",
   "execution_count": null,
   "id": "a35f8825-5004-463b-be81-12a60afe08a0",
   "metadata": {},
   "outputs": [],
   "source": [
    "plt.figure(figsize=(plotwidth,plotwidth/4)) # (20,5))\n",
    "sns.heatmap(des_matrix.T, square=False, cmap=\"viridis\")"
   ]
  },
  {
   "cell_type": "code",
   "execution_count": null,
   "id": "53dec6dc-8b96-4e0c-bc6d-b80646651263",
   "metadata": {},
   "outputs": [],
   "source": [
    "fig, axes = plt.subplots(1,3, figsize=(plotwidth,plotwidth/4)) # figsize=(20,5))\n",
    "\n",
    "common_mut = des_matrix_mut.T.dot(des_matrix_mut)\n",
    "sns.heatmap(common_mut, square=True, cmap=\"viridis\", annot=common_mut, ax=axes[0])\n",
    "axes[0].set_title(\"common mutations\")\n",
    "\n",
    "corr_mut = (des_matrix_mut).corr()\n",
    "sns.heatmap(corr_mut, square=True, cmap=\"viridis\", annot=corr_mut, ax=axes[1], fmt=\".1g\")\n",
    "axes[1].set_title(\"correlation\")\n",
    "\n",
    "from sklearn.metrics.pairwise import pairwise_distances\n",
    "jac_sim = 1 - pairwise_distances(des_matrix_mut.T, metric = \"hamming\")\n",
    "jac_sim = pd.DataFrame(jac_sim, index=des_matrix_mut.columns, columns=des_matrix_mut.columns)\n",
    "sns.heatmap(jac_sim, square=True, cmap=\"viridis\", annot=jac_sim, ax=axes[2])\n",
    "axes[2].set_title(\"jaccard similarity ((A∩B)/(A∪B))\")\n",
    "\n",
    "fig.show()"
   ]
  },
  {
   "cell_type": "markdown",
   "id": "3855ac6e",
   "metadata": {},
   "source": [
    "# Multiple-choice time:"
   ]
  },
  {
   "cell_type": "markdown",
   "id": "a3365a67",
   "metadata": {},
   "source": [
    "## CHOICE 1: Load V-pipe's deconvolution \n",
    "\n",
    "Use this choice to load the TSV dump of the deconvolution done by running Lollipop inside V-pipe"
   ]
  },
  {
   "cell_type": "code",
   "execution_count": null,
   "id": "f81ab8d2",
   "metadata": {},
   "outputs": [],
   "source": [
    "print(\"reusing %s last modified: %s\" % (vpipe_deconv_data, time.ctime(os.path.getmtime(vpipe_deconv_data))))"
   ]
  },
  {
   "cell_type": "code",
   "execution_count": null,
   "id": "088b11f0",
   "metadata": {},
   "outputs": [],
   "source": [
    "linear_deconv2_quasi2_df_flat = pd.read_csv(vpipe_deconv_data, sep=\"\\t\", parse_dates = [ 0 ], index_col=0)\n",
    "linear_deconv2_quasi2_df_flat.index.names = [\"date\"]\n",
    "linear_deconv2_quasi2_df_flat"
   ]
  },
  {
   "cell_type": "code",
   "execution_count": null,
   "id": "df5d92e2",
   "metadata": {},
   "outputs": [],
   "source": [
    "print(\"vpipe's %s last modified: %s\" % (vpipe_kdec_config, time.ctime(os.path.getmtime(vpipe_kdec_config))))"
   ]
  },
  {
   "cell_type": "code",
   "execution_count": null,
   "id": "c03633fe",
   "metadata": {},
   "outputs": [],
   "source": [
    "with open(vpipe_kdec_config, \"r\") as file:\n",
    "    kdconf_yaml = yaml.load(file, Loader=yaml.SafeLoader)\n",
    "kdconf_yaml"
   ]
  },
  {
   "cell_type": "markdown",
   "id": "dabd59da",
   "metadata": {},
   "source": [
    "## CHOICE 2: Run deconvolution\n",
    "\n",
    "Use this choise if something has gone wrong with V-pipe and you need to tweak the model.\n",
    "Once you're happy with your fixes: Do not forget to update the kernel deconvultion configuration used by V-pipe!"
   ]
  },
  {
   "cell_type": "markdown",
   "id": "4b5d5c38-f206-45e0-a84d-4dc331ff58e3",
   "metadata": {},
   "source": [
    "### Logit parametrised confidence intervals with quasilikelihood, stratified"
   ]
  },
  {
   "cell_type": "code",
   "execution_count": null,
   "id": "3a2dec7e",
   "metadata": {},
   "outputs": [],
   "source": [
    "# build the intervals pairs\n",
    "d = list(var_dates[\"var_dates\"].keys())\n",
    "date_intervals = list(zip(d, d[1:] + [None]))\n",
    "for mindate, maxdate in date_intervals:\n",
    "    if maxdate:\n",
    "        assert (\n",
    "            mindate < maxdate\n",
    "        ), f\"out of order dates: {mindate} >= {maxdate}. Please fix the content of {variants_date}\"\n",
    "        print(f\"from {mindate} to {maxdate}: {var_dates['var_dates'][mindate]}\")\n",
    "    else:\n",
    "        print(f\"from {mindate} onward: {var_dates['var_dates'][mindate]}\")\n"
   ]
  },
  {
   "cell_type": "code",
   "execution_count": null,
   "id": "9a88cb86-1204-4097-a2d7-2abbc58b04ab",
   "metadata": {},
   "outputs": [],
   "source": [
    "%%time\n",
    "\n",
    "np.random.seed(42)\n",
    "linear_deconv2_quasi2 = []\n",
    "\n",
    "for city in tqdm(cities_list):\n",
    "    #print(city)\n",
    "    temp_dfb = preproc.df_tally[preproc.df_tally[\"location\"] == city]\n",
    "\n",
    "    for mindate, maxdate in tqdm(date_intervals, desc = city):\n",
    "        if maxdate is not None:\n",
    "            temp_df2 = temp_dfb[\n",
    "                #temp_dfb.date.between(mindate, maxdate, inclusive=\"left\")\n",
    "                (temp_dfb.date >= mindate) & (temp_dfb.date < maxdate)\n",
    "            ]\n",
    "        else:\n",
    "            temp_df2 = temp_dfb[temp_dfb.date >= mindate]\n",
    "        if temp_df2.size == 0:\n",
    "            continue\n",
    "\n",
    "        t_kdec = KernelDeconv(\n",
    "            temp_df2[var_dates['var_dates'][mindate] + [\"undetermined\"]],\n",
    "            temp_df2[\"frac\"],\n",
    "            temp_df2[\"date\"],\n",
    "    #         weights=temp_df2[\"resample_value\"],\n",
    "            kernel=GaussianKernel(30),\n",
    "            reg=NnlsReg(),\n",
    "            confint=WaldConfint(\n",
    "                scale=\"logit\",\n",
    "                pseudofrac=0.01,\n",
    "                quasi=True,\n",
    "                method=\"strat\"\n",
    "            )\n",
    "        )\n",
    "        t_kdec = t_kdec.deconv_all(min_tol=1e-3)\n",
    "\n",
    "        # save results\n",
    "        res = t_kdec.fitted.copy()\n",
    "        res[\"location\"] = city\n",
    "        res[\"estimate\"] = \"MSE\"\n",
    "        linear_deconv2_quasi2.append(res)\n",
    "\n",
    "        res_lower = t_kdec.conf_bands[\"lower\"].copy()\n",
    "        res_lower[\"location\"] = city\n",
    "        res_lower[\"estimate\"] = \"Wald_lower\"\n",
    "        linear_deconv2_quasi2.append(res_lower)\n",
    "\n",
    "        res_upper = t_kdec.conf_bands[\"upper\"].copy()\n",
    "        res_upper[\"location\"] = city\n",
    "        res_upper[\"estimate\"] = \"Wald_upper\"\n",
    "        linear_deconv2_quasi2.append(res_upper)\n",
    "    \n",
    "\n",
    "linear_deconv2_quasi2_df = pd.concat(linear_deconv2_quasi2).sort\n",
    "# linear_deconv_df = linear_deconv2_df.fillna(0)\n",
    "\n",
    "found_var = list(set(variants_list) & set(linear_deconv2_quasi2_df.columns))\n",
    "\n",
    "\n",
    "linear_deconv2_quasi2_df_flat = linear_deconv2_quasi2_df.melt(\n",
    "    id_vars=[\"location\", \"estimate\"],\n",
    "    value_vars=found_var + [\"undetermined\"],\n",
    "    var_name=\"variant\",\n",
    "    value_name=\"frac\",\n",
    "    ignore_index=False,\n",
    ")\n",
    "linear_deconv2_quasi2_df_flat.index.names = [\"date\"]\n",
    "linear_deconv2_quasi2_df_flat.head()\n",
    "\n",
    "\n",
    "# backup data\n",
    "linear_deconv2_quasi2_df_flat.to_csv(dump_csv, index_label=\"date\")\n",
    "deconv_backup_df = linear_deconv2_quasi2_df_flat"
   ]
  },
  {
   "cell_type": "code",
   "execution_count": null,
   "id": "1dfff629",
   "metadata": {},
   "outputs": [],
   "source": [
    "linear_deconv2_quasi2_df_flat"
   ]
  },
  {
   "cell_type": "code",
   "execution_count": null,
   "id": "299869a6",
   "metadata": {},
   "outputs": [],
   "source": [
    "linear_deconv2_quasi2_df_flat.dtypes"
   ]
  },
  {
   "cell_type": "markdown",
   "id": "45330850",
   "metadata": {},
   "source": [
    "### reload the dump"
   ]
  },
  {
   "cell_type": "code",
   "execution_count": null,
   "id": "a438852c",
   "metadata": {},
   "outputs": [],
   "source": [
    "print(\"dump %s last modified: %s\" % (dump_csv, time.ctime(os.path.getmtime(dump_csv))))"
   ]
  },
  {
   "cell_type": "code",
   "execution_count": null,
   "id": "ee060f13",
   "metadata": {},
   "outputs": [],
   "source": [
    "linear_deconv2_quasi2_df_flat = pd.read_csv(dump_csv, index_col = 0)\n",
    "linear_deconv2_quasi2_df_flat.index.names = [\"date\"]\n",
    "linear_deconv2_quasi2_df_flat"
   ]
  },
  {
   "cell_type": "markdown",
   "id": "78fbadb0",
   "metadata": {},
   "source": [
    "# End of multiple choices\n",
    "\n",
    "Now move onto plots, etc."
   ]
  },
  {
   "cell_type": "markdown",
   "id": "6fd7fa9f",
   "metadata": {},
   "source": [
    "## Plots"
   ]
  },
  {
   "cell_type": "code",
   "execution_count": null,
   "id": "8fd433bd-39ab-411f-bd81-11771a58d6d6",
   "metadata": {},
   "outputs": [],
   "source": [
    "fig, axes = plt.subplots(nrows=3, ncols=3, figsize=(plotwidth, plotwidth/2), sharex=True)\n",
    "axes = axes.flatten()\n",
    "\n",
    "def logit_inv(x):\n",
    "    return np.exp(x)/(1+np.exp(x))\n",
    "\n",
    "for i, city in enumerate(linear_deconv2_quasi2_df_flat.location.unique()):\n",
    "    axes[i].set_title(city)\n",
    "    \n",
    "    for var in linear_deconv2_quasi2_df_flat[\"variant\"].unique():\n",
    "        tt_df = linear_deconv2_quasi2_df_flat[\n",
    "            (linear_deconv2_quasi2_df_flat[\"variant\"] == var) &\n",
    "            (linear_deconv2_quasi2_df_flat[\"location\"] == city) \n",
    "        ].reset_index().pivot(\n",
    "            index=[\"date\", \"location\", \"variant\"],\n",
    "            columns=\"estimate\"\n",
    "        ).reset_index().sort_values(by='date')\n",
    "\n",
    "        sns.lineplot(\n",
    "            x=tt_df[\"date\"], \n",
    "            y=tt_df[\"frac\"][\"MSE\"], \n",
    "            hue=tt_df[\"variant\"],\n",
    "            ax = axes[i], \n",
    "            palette = color_map\n",
    "        )\n",
    "        axes[i].fill_between(\n",
    "            x=tt_df[\"date\"], \n",
    "            y1=logit_inv(np.clip(tt_df[\"frac\"][\"Wald_lower\"], -100, 100)), \n",
    "            y2=logit_inv(np.clip(tt_df[\"frac\"][\"Wald_upper\"], -100, 100)),\n",
    "            alpha = 0.2,\n",
    "            #color=\"grey\"\n",
    "            color=color_map[var],\n",
    "        )\n",
    "handles, labels = axes[i].get_legend_handles_labels()\n",
    "fig.legend(handles, labels, loc='lower center', ncol=len(labels), bbox_to_anchor=(0.5,0.05))\n",
    "fig.suptitle(f'Gaussian Kernel Deconvolution ($k=10$)')\n",
    "# plt.savefig(os.path.join(plots_dir, f\"combined-linear.pdf\"))"
   ]
  },
  {
   "cell_type": "code",
   "execution_count": null,
   "id": "eb507d56",
   "metadata": {},
   "outputs": [],
   "source": [
    "# df[\"Date of Birth\"] = pd.to_datetime(df[\"Date of Birth\"])"
   ]
  },
  {
   "cell_type": "code",
   "execution_count": null,
   "id": "d0c110f9",
   "metadata": {},
   "outputs": [],
   "source": [
    "tt_df.dtypes"
   ]
  },
  {
   "cell_type": "code",
   "execution_count": null,
   "id": "1d48782b",
   "metadata": {},
   "outputs": [],
   "source": [
    "fix = tt_df\n",
    "fix[\"date\"] = pd.to_datetime(fix[\"date\"])\n",
    "fix.dtypes"
   ]
  },
  {
   "cell_type": "code",
   "execution_count": null,
   "id": "e9d09b92",
   "metadata": {},
   "outputs": [],
   "source": [
    "fix=# df[\"Date of Birth\"] = pd.to_datetime(df[\"Date of Birth\"])"
   ]
  }
 ],
 "metadata": {
  "kernelspec": {
   "display_name": "lollipop",
   "language": "python",
   "name": "lollipop"
  },
  "language_info": {
   "codemirror_mode": {
    "name": "ipython",
    "version": 3
   },
   "file_extension": ".py",
   "mimetype": "text/x-python",
   "name": "python",
   "nbconvert_exporter": "python",
   "pygments_lexer": "ipython3",
   "version": "3.10.6"
  }
 },
 "nbformat": 4,
 "nbformat_minor": 5
}
